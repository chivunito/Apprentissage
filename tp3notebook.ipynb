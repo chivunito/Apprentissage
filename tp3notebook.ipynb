{
 "cells": [
  {
   "cell_type": "code",
   "execution_count": 1,
   "metadata": {},
   "outputs": [
    {
     "name": "stdout",
     "output_type": "stream",
     "text": [
      "3500 1500\n",
      "3500\n"
     ]
    },
    {
     "name": "stderr",
     "output_type": "stream",
     "text": [
      "/usr/local/insa/anaconda/lib/python3.6/site-packages/sklearn/model_selection/_split.py:2026: FutureWarning: From version 0.21, test_size will always complement train_size unless both are specified.\n",
      "  FutureWarning)\n"
     ]
    }
   ],
   "source": [
    "from sklearn.datasets import fetch_mldata\n",
    "import sklearn.svm as svm\n",
    "\n",
    "from sklearn.model_selection import train_test_split\n",
    "import numpy as npy\n",
    "from sklearn.neural_network import MLPClassifier\n",
    "from sklearn.metrics import precision_score,zero_one_loss\n",
    "\n",
    "\n",
    "mnist=fetch_mldata('MNIST original',data_home=\".\")\n",
    "sampleIndex=npy.random.randint(70000,size=5000)\n",
    "baseData=mnist.data[sampleIndex]\n",
    "# # baseData=mnist.data\n",
    "baseTarget=mnist.target[sampleIndex]\n",
    "# # baseTarget=mnist.target\n",
    "dataTrain,dataTest,targetTrain,targetTest=train_test_split(baseData,baseTarget,train_size=0.7)\n",
    "\n",
    "print(len(dataTrain),len(dataTest))\n",
    "print(len(targetTrain==1))"
   ]
  },
  {
   "cell_type": "markdown",
   "metadata": {},
   "source": [
    "## Scoring Kernel's Mode"
   ]
  },
  {
   "cell_type": "code",
   "execution_count": null,
   "metadata": {},
   "outputs": [
    {
     "name": "stdout",
     "output_type": "stream",
     "text": [
      "linear\n",
      "2.4007351398468018\n",
      "poly\n",
      "3.1570019721984863\n",
      "rbf\n"
     ]
    }
   ],
   "source": [
    "import time\n",
    "kernelModeList=['linear','poly','rbf','sigmoid']\n",
    "\n",
    "summaryList=[]\n",
    "for mode in kernelModeList :\n",
    "    print(mode)\n",
    "    summary={}\n",
    "    summary['mode']=mode\n",
    "    startTime=time.time()\n",
    "    classifier=svm.SVC(kernel=mode)\n",
    "    classifier.fit(dataTrain,targetTrain)\n",
    "    print(time.time()-startTime)\n",
    "    summary['time']= time.time() - startTime\n",
    "    summary['score']=classifier.score(dataTest,targetTest)\n",
    "    summaryList.append(summary)"
   ]
  },
  {
   "cell_type": "code",
   "execution_count": 32,
   "metadata": {},
   "outputs": [
    {
     "data": {
      "image/png": "[encoded data removed]",
      "text/plain": [
       "<matplotlib.figure.Figure at 0x1cc4868ea90>"
      ]
     },
     "metadata": {},
     "output_type": "display_data"
    },
    {
     "data": {
      "image/png": "[encoded data removed]",
      "text/plain": [
       "<matplotlib.figure.Figure at 0x1cc479be320>"
      ]
     },
     "metadata": {},
     "output_type": "display_data"
    }
   ],
   "source": [
    "import time\n",
    "import matplotlib.pyplot as plt\n",
    "\n",
    "\n",
    "for dico,index in zip(summaryList,range(4)) :\n",
    "#     print(dico,index)\n",
    "    plt.plot(index,dico['time'],marker=\"D\")\n",
    "    \n",
    "plt.xticks([0,1,2,3], kernelModeList)\n",
    "plt.title(\"Temps d'apprentissage en fonction du mode\")\n",
    "plt.show()\n",
    "\n",
    "for dico,index in zip(summaryList,range(4)) :\n",
    "#     print(dico,index)\n",
    "    plt.plot(index,dico['score'],marker=\"D\")\n",
    "    \n",
    "plt.xticks([0,1,2,3], kernelModeList)\n",
    "plt.title(\"Score en fonction du mode\")\n",
    "plt.show()\n"
   ]
  },
  {
   "cell_type": "markdown",
   "metadata": {},
   "source": [
    "## Variation du paramètre de tolérance aux erreurs C"
   ]
  },
  {
   "cell_type": "code",
   "execution_count": 48,
   "metadata": {},
   "outputs": [
    {
     "name": "stdout",
     "output_type": "stream",
     "text": [
      "1.0 0.894 15.878157138824463\n",
      "125.875 0.894 16.61961603164673\n",
      "250.75 0.894 15.486047267913818\n",
      "375.625 0.894 17.13124680519104\n",
      "500.5 0.894 15.606761932373047\n",
      "625.375 0.894 15.70910358428955\n",
      "750.25 0.894 15.910830020904541\n",
      "875.125 0.894 16.34140372276306\n",
      "1000.0 0.894 15.990520477294922\n"
     ]
    }
   ],
   "source": [
    "bestMode=\"linear\"\n",
    "\n",
    "summaryList=[]\n",
    "for cValue in npy.linspace(1,1000,9):\n",
    "    startTime=time.time()\n",
    "    dico={}\n",
    "    classifier=svm.SVC(kernel=bestMode,C=cValue)\n",
    "    classifier.fit(dataTrain,targetTrain)\n",
    "    score=classifier.score(dataTest,targetTest)\n",
    "    eTime=time.time()-startTime\n",
    "    dico['cValue']=cValue\n",
    "    dico['score']=score\n",
    "    dico['time']=eTime\n",
    "    print(cValue,score,eTime)\n",
    "    summaryList.append(dico)"
   ]
  },
  {
   "cell_type": "code",
   "execution_count": 59,
   "metadata": {},
   "outputs": [
    {
     "ename": "KeyError",
     "evalue": "'cValue'",
     "output_type": "error",
     "traceback": [
      "\u001b[1;31m---------------------------------------------------------------------------\u001b[0m",
      "\u001b[1;31mKeyError\u001b[0m                                  Traceback (most recent call last)",
      "\u001b[1;32m<ipython-input-59-c7d7ea8b8b6b>\u001b[0m in \u001b[0;36m<module>\u001b[1;34m()\u001b[0m\n\u001b[0;32m      4\u001b[0m \u001b[1;32mfor\u001b[0m \u001b[0mdico\u001b[0m \u001b[1;32min\u001b[0m \u001b[0msummaryList\u001b[0m \u001b[1;33m:\u001b[0m\u001b[1;33m\u001b[0m\u001b[0m\n\u001b[0;32m      5\u001b[0m \u001b[1;31m#     print(dico,index)\u001b[0m\u001b[1;33m\u001b[0m\u001b[1;33m\u001b[0m\u001b[0m\n\u001b[1;32m----> 6\u001b[1;33m     \u001b[0mplt\u001b[0m\u001b[1;33m.\u001b[0m\u001b[0mplot\u001b[0m\u001b[1;33m(\u001b[0m\u001b[0mdico\u001b[0m\u001b[1;33m[\u001b[0m\u001b[1;34m'cValue'\u001b[0m\u001b[1;33m]\u001b[0m\u001b[1;33m,\u001b[0m\u001b[0mdico\u001b[0m\u001b[1;33m[\u001b[0m\u001b[1;34m'score'\u001b[0m\u001b[1;33m]\u001b[0m\u001b[1;33m,\u001b[0m\u001b[0mmarker\u001b[0m\u001b[1;33m=\u001b[0m\u001b[1;34m\"D\"\u001b[0m\u001b[1;33m)\u001b[0m\u001b[1;33m\u001b[0m\u001b[0m\n\u001b[0m\u001b[0;32m      7\u001b[0m \u001b[1;33m\u001b[0m\u001b[0m\n\u001b[0;32m      8\u001b[0m \u001b[0mplt\u001b[0m\u001b[1;33m.\u001b[0m\u001b[0mtitle\u001b[0m\u001b[1;33m(\u001b[0m\u001b[1;34m\"Influence du C sur le score\"\u001b[0m\u001b[1;33m)\u001b[0m\u001b[1;33m\u001b[0m\u001b[0m\n",
      "\u001b[1;31mKeyError\u001b[0m: 'cValue'"
     ]
    }
   ],
   "source": [
    "import matplotlib.pyplot as plt\n",
    "\n",
    "for dico in summaryList :\n",
    "#     print(dico,index)\n",
    "    plt.plot(dico['cValue'],dico['score'],marker=\"D\")\n",
    "    \n",
    "plt.title(\"Influence du C sur le score\")\n",
    "plt.show()"
   ]
  },
  {
   "cell_type": "markdown",
   "metadata": {},
   "source": [
    "## Variation du paramètre Gamma\n",
    "- Kernel coefficient for ‘rbf’, ‘poly’ and ‘sigmoid’. If gamma is ‘auto’ then 1/n_features will be used instead."
   ]
  },
  {
   "cell_type": "code",
   "execution_count": 58,
   "metadata": {},
   "outputs": [
    {
     "name": "stdout",
     "output_type": "stream",
     "text": [
      "1.0 0.894 14.81909728050232\n",
      "112.0 0.894 15.951354503631592\n",
      "223.0 0.894 16.79840397834778\n",
      "334.0 0.894 16.528911113739014\n",
      "445.0 0.894 15.273550510406494\n",
      "556.0 0.894 15.273942708969116\n",
      "667.0 0.894 16.406985998153687\n",
      "778.0 0.894 15.44303011894226\n",
      "889.0 0.894 15.850804328918457\n",
      "1000.0 0.894 16.511123657226562\n"
     ]
    }
   ],
   "source": [
    "summaryList=[]\n",
    "for gamma in npy.linspace(1,1000,10):\n",
    "    startTime=time.time()\n",
    "    dico={}\n",
    "    classifier=svm.SVC(kernel=bestMode,gamma=gamma)\n",
    "    classifier.fit(dataTrain,targetTrain)\n",
    "    score=classifier.score(dataTest,targetTest)\n",
    "    eTime=time.time()-startTime\n",
    "    dico['gamma']=gamma\n",
    "    dico['score']=score\n",
    "    dico['time']=eTime\n",
    "    print(gamma,score,eTime)\n",
    "    summaryList.append(dico)"
   ]
  },
  {
   "cell_type": "code",
   "execution_count": 61,
   "metadata": {},
   "outputs": [
    {
     "data": {
      "image/png": "[encoded data removed]",
      "text/plain": [
       "<matplotlib.figure.Figure at 0x1cc48356e48>"
      ]
     },
     "metadata": {},
     "output_type": "display_data"
    }
   ],
   "source": [
    "import matplotlib.pyplot as plt\n",
    "\n",
    "for dico in summaryList :\n",
    "#     print(dico,index)\n",
    "    plt.plot(dico['gamma'],dico['score'],marker=\"D\")\n",
    "    \n",
    "plt.title(\"Influence du gamma sur le score\")\n",
    "plt.show()"
   ]
  },
  {
   "cell_type": "markdown",
   "metadata": {},
   "source": [
    "## GridSearchCV\n",
    "#####\n",
    "- puce\n"
   ]
  },
  {
   "cell_type": "code",
   "execution_count": 68,
   "metadata": {},
   "outputs": [
    {
     "name": "stdout",
     "output_type": "stream",
     "text": [
      "SVC(C=1, cache_size=200, class_weight=None, coef0=0.0,\n",
      "  decision_function_shape=None, degree=3, gamma='auto', kernel='linear',\n",
      "  max_iter=-1, probability=False, random_state=None, shrinking=True,\n",
      "  tol=0.001, verbose=False)\n"
     ]
    }
   ],
   "source": [
    "from sklearn.model_selection import GridSearchCV\n",
    "\n",
    "param_grid = [\n",
    "  {'C': [1, 10], 'kernel': ['linear','poly']},\n",
    " ]\n",
    "\n",
    "clf = GridSearchCV(svm.SVC(),param_grid, cv=5)\n",
    "clf.fit(dataTrain, targetTrain)\n",
    "\n",
    "print(clf.best_estimator_)\n"
   ]
  },
  {
   "cell_type": "code",
   "execution_count": 73,
   "metadata": {
    "scrolled": true
   },
   "outputs": [
    {
     "name": "stdout",
     "output_type": "stream",
     "text": [
      "linear\n",
      "[ 9.  8.  9. ...,  4.  4.  9.]\n",
      "[[132   0   1   0   0   4   1   1   1   0]\n",
      " [  0 151   4   0   0   0   0   1   2   0]\n",
      " [  1   3 147   2   2   2   1   1   3   0]\n",
      " [  0   2   7 127   0  12   1   2   6   1]\n",
      " [  0   1   0   0 136   0   1   2   0   4]\n",
      " [  1   0   2   6   2 112   4   1   2   3]\n",
      " [  1   0   4   1   3   5 132   0   0   0]\n",
      " [  0   0   2   3   0   1   0 140   0   3]\n",
      " [  0   2   2   4   8   3   1   0 126   4]\n",
      " [  1   1   1   2   5   0   0  11   1 138]]\n",
      "17.03404951095581\n"
     ]
    }
   ],
   "source": [
    "from sklearn.metrics import confusion_matrix \n",
    "summaryList=[]\n",
    "\n",
    "print(bestMode)\n",
    "startTime=time.time()\n",
    "classifier=svm.SVC(kernel=bestMode)\n",
    "classifier.fit(dataTrain,targetTrain)\n",
    "predictedData=classifier.predict(dataTest)\n",
    "print(predictedData)\n",
    "matrice=confusion_matrix(targetTest,predictedData)\n",
    "print(matrice)\n",
    "print(time.time()-startTime)\n"
   ]
  },
  {
   "cell_type": "code",
   "execution_count": 80,
   "metadata": {},
   "outputs": [
    {
     "name": "stdout",
     "output_type": "stream",
     "text": [
      "[[132   0   1   0   0   4   1   1   1   0]\n",
      " [  0 151   4   0   0   0   0   1   2   0]\n",
      " [  1   3 147   2   2   2   1   1   3   0]\n",
      " [  0   2   7 127   0  12   1   2   6   1]\n",
      " [  0   1   0   0 136   0   1   2   0   4]\n",
      " [  1   0   2   6   2 112   4   1   2   3]\n",
      " [  1   0   4   1   3   5 132   0   0   0]\n",
      " [  0   0   2   3   0   1   0 140   0   3]\n",
      " [  0   2   2   4   8   3   1   0 126   4]\n",
      " [  1   1   1   2   5   0   0  11   1 138]]\n",
      "0\t132\t8\t0.0606060606061\n",
      "1\t151\t7\t0.046357615894\n",
      "2\t147\t15\t0.102040816327\n",
      "3\t127\t31\t0.244094488189\n",
      "4\t136\t8\t0.0588235294118\n",
      "5\t112\t21\t0.1875\n",
      "6\t132\t14\t0.106060606061\n",
      "7\t140\t9\t0.0642857142857\n",
      "8\t126\t24\t0.190476190476\n",
      "9\t138\t22\t0.159420289855\n"
     ]
    }
   ],
   "source": [
    "print(matrice)\n",
    "\n",
    "for num in range(10):\n",
    "    good=matrice[num][num]\n",
    "    missed=sum(matrice[num])-good\n",
    "    print(num,good,missed,missed/good,sep=\"\\t\")\n",
    "\n",
    "    Changement test"
   ]
  }
 ],
 "metadata": {
  "kernelspec": {
   "display_name": "Python [default]",
   "language": "python",
   "name": "python3"
  },
  "language_info": {
   "codemirror_mode": {
    "name": "ipython",
    "version": 3
   },
   "file_extension": ".py",
   "mimetype": "text/x-python",
   "name": "python",
   "nbconvert_exporter": "python",
   "pygments_lexer": "ipython3",
   "version": "3.6.1"
  }
 },
 "nbformat": 4,
 "nbformat_minor": 2
}
